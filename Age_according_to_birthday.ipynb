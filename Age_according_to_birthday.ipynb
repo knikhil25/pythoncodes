{
  "nbformat": 4,
  "nbformat_minor": 0,
  "metadata": {
    "colab": {
      "provenance": [],
      "authorship_tag": "ABX9TyMnMo3nrVnHa9KE+qEpM3JJ",
      "include_colab_link": true
    },
    "kernelspec": {
      "name": "python3",
      "display_name": "Python 3"
    },
    "language_info": {
      "name": "python"
    }
  },
  "cells": [
    {
      "cell_type": "markdown",
      "metadata": {
        "id": "view-in-github",
        "colab_type": "text"
      },
      "source": [
        "<a href=\"https://colab.research.google.com/github/knikhil25/pythoncodes/blob/main/Age_according_to_birthday.ipynb\" target=\"_parent\"><img src=\"https://colab.research.google.com/assets/colab-badge.svg\" alt=\"Open In Colab\"/></a>"
      ]
    },
    {
      "cell_type": "code",
      "execution_count": 10,
      "metadata": {
        "colab": {
          "base_uri": "https://localhost:8080/"
        },
        "id": "zm3bPdN5uzYn",
        "outputId": "4ff0054d-d83b-46ae-fffb-0083f5979c02"
      },
      "outputs": [
        {
          "output_type": "stream",
          "name": "stdout",
          "text": [
            "Enter your birth year: 1985\n",
            "Enter your birth month: 6\n",
            "Enter your birth day: 6\n",
            "Your age is 39 years old\n"
          ]
        }
      ],
      "source": [
        "from datetime import date\n",
        "\n",
        "def calculate_age(birth_year, birth_month, birth_day ):\n",
        "\n",
        "\ttoday = date.today()\n",
        "\tage = today.year - birth_year - ((today.month, today.day) < (birth_month, birth_day))\n",
        "\n",
        "\treturn age\n",
        "\n",
        "birth_year = int(input(\"Enter your birth year: \"))\n",
        "birth_month = int(input(\"Enter your birth month: \"))\n",
        "birth_day = int(input(\"Enter your birth day: \"))\n",
        "\n",
        "age = calculate_age(birth_year, birth_month, birth_day)\n",
        "print(f\"Your age is {age} years old\")\n",
        "\n"
      ]
    }
  ]
}