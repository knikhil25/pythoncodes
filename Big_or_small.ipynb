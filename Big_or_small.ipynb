{
  "nbformat": 4,
  "nbformat_minor": 0,
  "metadata": {
    "colab": {
      "provenance": [],
      "authorship_tag": "ABX9TyO3N3gxc3fHtGuc1YEBgKJM",
      "include_colab_link": true
    },
    "kernelspec": {
      "name": "python3",
      "display_name": "Python 3"
    },
    "language_info": {
      "name": "python"
    }
  },
  "cells": [
    {
      "cell_type": "markdown",
      "metadata": {
        "id": "view-in-github",
        "colab_type": "text"
      },
      "source": [
        "<a href=\"https://colab.research.google.com/github/knikhil25/pythoncodes/blob/main/Big_or_small.ipynb\" target=\"_parent\"><img src=\"https://colab.research.google.com/assets/colab-badge.svg\" alt=\"Open In Colab\"/></a>"
      ]
    },
    {
      "cell_type": "code",
      "execution_count": 24,
      "metadata": {
        "colab": {
          "base_uri": "https://localhost:8080/"
        },
        "id": "WSsussIqq_Fm",
        "outputId": "ad56df15-b0e1-4a7f-f642-9f72e463bcef"
      },
      "outputs": [
        {
          "output_type": "stream",
          "name": "stdout",
          "text": [
            "Enter two numbers.\n",
            "Enter any 1 number here.3\n",
            "Enter any 1 number here.3\n",
            "3 is equal to 3\n"
          ]
        }
      ],
      "source": [
        "print(\"Enter two numbers.\")\n",
        "A=input(\"Enter any 1 number here.\")\n",
        "B=input(\"Enter any 1 number here.\")\n",
        "\n",
        "if(A>B):\n",
        "  print(A + \" is bigger than \" + B )\n",
        "\n",
        "elif(A==B):\n",
        "  print(A + \" is equal to \" + B)\n",
        "\n",
        "else:\n",
        "    print(B + \" is bigger than \" + A)\n",
        "\n"
      ]
    }
  ]
}