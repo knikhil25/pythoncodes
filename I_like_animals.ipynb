{
  "nbformat": 4,
  "nbformat_minor": 0,
  "metadata": {
    "colab": {
      "provenance": [],
      "authorship_tag": "ABX9TyN5GNKR55dwjW5qmJS8fgAY",
      "include_colab_link": true
    },
    "kernelspec": {
      "name": "python3",
      "display_name": "Python 3"
    },
    "language_info": {
      "name": "python"
    }
  },
  "cells": [
    {
      "cell_type": "markdown",
      "metadata": {
        "id": "view-in-github",
        "colab_type": "text"
      },
      "source": [
        "<a href=\"https://colab.research.google.com/github/knikhil25/pythoncodes/blob/main/I_like_animals.ipynb\" target=\"_parent\"><img src=\"https://colab.research.google.com/assets/colab-badge.svg\" alt=\"Open In Colab\"/></a>"
      ]
    },
    {
      "cell_type": "code",
      "execution_count": 9,
      "metadata": {
        "colab": {
          "base_uri": "https://localhost:8080/"
        },
        "id": "rN8fqk4kElUH",
        "outputId": "1b883a3b-2431-4833-9fa2-bf263db57830"
      },
      "outputs": [
        {
          "output_type": "stream",
          "name": "stdout",
          "text": [
            "Enter an animal\n",
            "The animals names first letter has to be upper case.\n",
            "Dog\n",
            "I like Dogs.\n"
          ]
        }
      ],
      "source": [
        "print(\"Enter an animal\")\n",
        "print(\"The animals names first letter has to be upper case.\")\n",
        "Animal=input(\"\")\n",
        "if(Animal==\"Dog\"):\n",
        "  print(\"I like Dogs.\")\n",
        "\n",
        "elif(Animal==\"Horse\"):\n",
        "  print(\"Neigh\")\n",
        "\n",
        "else:\n",
        "  print(\"Cool\")"
      ]
    }
  ]
}