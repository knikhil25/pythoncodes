{
  "nbformat": 4,
  "nbformat_minor": 0,
  "metadata": {
    "colab": {
      "name": "Timer.ipynb",
      "provenance": [],
      "authorship_tag": "ABX9TyMwICLQM2X7ps3oxdwMU2bT"
    },
    "kernelspec": {
      "name": "python3",
      "display_name": "Python 3"
    },
    "language_info": {
      "name": "python"
    }
  },
  "cells": [
    {
      "cell_type": "code",
      "execution_count": null,
      "metadata": {
        "colab": {
          "base_uri": "https://localhost:8080/"
        },
        "id": "H_FL077CqBxi",
        "outputId": "9892000e-8ddf-468e-970b-7e43ab9c5a37"
      },
      "outputs": [
        {
          "output_type": "stream",
          "name": "stdout",
          "text": [
            "Enter a time: 7\n",
            "Hey, your early\n"
          ]
        }
      ],
      "source": [
        "num = float(input(\"Enter a time: \"))\n",
        "if num >=4 and num <9:\n",
        "  print(\"Hey, your early\")\n",
        "elif num >=9 and num <12:\n",
        "  print(\"Good morning\")\n",
        "elif num >=12 and num <16:\n",
        "  print(\"Good afternoon\")\n",
        "elif num >=16 and num <20:\n",
        "  print(\"Good evening\")\n",
        "elif num >=20 and num <24:\n",
        "  print(\"Good night\")\n",
        "elif num >=1 and num <4:\n",
        "  print(\"Sleep tight\")\n",
        "else:\n",
        "  print(\"Your an alien! You do not have any time!\")"
      ]
    }
  ]
}