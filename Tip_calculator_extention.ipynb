{
  "nbformat": 4,
  "nbformat_minor": 0,
  "metadata": {
    "colab": {
      "provenance": [],
      "include_colab_link": true
    },
    "kernelspec": {
      "name": "python3",
      "display_name": "Python 3"
    },
    "language_info": {
      "name": "python"
    }
  },
  "cells": [
    {
      "cell_type": "markdown",
      "metadata": {
        "id": "view-in-github",
        "colab_type": "text"
      },
      "source": [
        "<a href=\"https://colab.research.google.com/github/knikhil25/pythoncodes/blob/main/Tip_calculator_extention.ipynb\" target=\"_parent\"><img src=\"https://colab.research.google.com/assets/colab-badge.svg\" alt=\"Open In Colab\"/></a>"
      ]
    },
    {
      "cell_type": "code",
      "execution_count": 8,
      "metadata": {
        "id": "nFrihKQf9MhV",
        "colab": {
          "base_uri": "https://localhost:8080/"
        },
        "outputId": "388e3f34-366a-44e4-abf7-a4166a00ccee"
      },
      "outputs": [
        {
          "output_type": "stream",
          "name": "stdout",
          "text": [
            "What was the total bill? $100\n",
            "How mauch tip do you want to give? 0\n",
            "How Many people want to pay?2\n",
            "Total Bill = $100.0\n",
            "One Person should pay = $50.0\n"
          ]
        }
      ],
      "source": [
        "bill=input(\"What was the total bill? $\")\n",
        "total_bill = int(bill)\n",
        "\n",
        "tip=input(\"How mauch tip do you want to give? \")\n",
        "total_tip = int(tip)\n",
        "\n",
        "people=input(\"How Many people want to pay?\")\n",
        "total_people=int(people)\n",
        "\n",
        "\n",
        "tip_value = total_bill*total_tip/100\n",
        "\n",
        "final_bill= total_bill + tip_value\n",
        "\n",
        "print(\"Total Bill = $\" + str(final_bill))\n",
        "print(\"One Person should pay = $\" + str(final_bill/total_people))"
      ]
    }
  ]
}