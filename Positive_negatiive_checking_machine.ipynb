{
  "nbformat": 4,
  "nbformat_minor": 0,
  "metadata": {
    "colab": {
      "name": "Positive negatiive checking machine.ipynb",
      "provenance": [],
      "authorship_tag": "ABX9TyPRXy91GjzXnlx/zoeRDWGu"
    },
    "kernelspec": {
      "name": "python3",
      "display_name": "Python 3"
    },
    "language_info": {
      "name": "python"
    }
  },
  "cells": [
    {
      "cell_type": "code",
      "execution_count": 6,
      "metadata": {
        "id": "D5OB0S-zMnHd",
        "colab": {
          "base_uri": "https://localhost:8080/"
        },
        "outputId": "6c7fa6a9-d137-4477-fc21-17254fe894ca"
      },
      "outputs": [
        {
          "output_type": "stream",
          "name": "stdout",
          "text": [
            "Enter a number: 4\n",
            "4.0 is a positive number\n"
          ]
        }
      ],
      "source": [
        "num = float(input(\"Enter a number: \"))\n",
        "if num > 0:\n",
        "  print(\"{0} is a positive number\".format(num))\n",
        "elif num == 0:\n",
        "  print(\"Zero\")\n",
        "else:\n",
        "  print(\"{0} is a negative number\".format(num))"
      ]
    }
  ]
}