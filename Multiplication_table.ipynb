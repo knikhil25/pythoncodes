{
  "nbformat": 4,
  "nbformat_minor": 0,
  "metadata": {
    "colab": {
      "name": "Multiplication table.ipynb",
      "provenance": [],
      "authorship_tag": "ABX9TyOJ028u0xJlopFXenEqvPVF"
    },
    "kernelspec": {
      "name": "python3",
      "display_name": "Python 3"
    },
    "language_info": {
      "name": "python"
    }
  },
  "cells": [
    {
      "cell_type": "code",
      "execution_count": null,
      "metadata": {
        "id": "l4Lzp1EaXDRE"
      },
      "outputs": [],
      "source": [
        "# Multiplication table (from 1 to 10) in Python\n",
        "num = 12\n",
        "# To take input from the user\n",
        "# num = int(input(\"Display multiplication table of? \"))\n",
        "# Iterate 10 times from i = 1 to 10\n",
        "for i in range(1, 11):\n",
        "  Print(num, 'x', i, '=', num*i)\n",
        "\n"
      ]
    }
  ]
}