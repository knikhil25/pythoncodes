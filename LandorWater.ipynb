{
  "nbformat": 4,
  "nbformat_minor": 0,
  "metadata": {
    "colab": {
      "provenance": [],
      "authorship_tag": "ABX9TyOtukFHvIS0/BxsKD7ktdmQ",
      "include_colab_link": true
    },
    "kernelspec": {
      "name": "python3",
      "display_name": "Python 3"
    },
    "language_info": {
      "name": "python"
    }
  },
  "cells": [
    {
      "cell_type": "markdown",
      "metadata": {
        "id": "view-in-github",
        "colab_type": "text"
      },
      "source": [
        "<a href=\"https://colab.research.google.com/github/knikhil25/pythoncodes/blob/main/Land_or_Water.ipynb\" target=\"_parent\"><img src=\"https://colab.research.google.com/assets/colab-badge.svg\" alt=\"Open In Colab\"/></a>"
      ]
    },
    {
      "cell_type": "code",
      "execution_count": 7,
      "metadata": {
        "colab": {
          "base_uri": "https://localhost:8080/"
        },
        "id": "U9mvoKgmncHZ",
        "outputId": "02a1348b-6a10-4a02-fed9-da2f44a0b476"
      },
      "outputs": [
        {
          "output_type": "stream",
          "name": "stdout",
          "text": [
            "Please press a number to get a animal and find out if it lives on land or/and water.\n",
            "\n",
            "1 = Fish.\n",
            "2 = Lion.\n",
            "3 = Tiger.\n",
            "4 = Chetaah.\n",
            "5 = Frog.\n",
            "6 = Anteater\n",
            "5\n",
            "Frogs lives on the land and in the water.\n"
          ]
        }
      ],
      "source": [
        "\n",
        "print(\"Please press a number to get a animal and find out if it lives on land or/and water.\")\n",
        "print(\"\")\n",
        "print(\"1 = Fish.\")\n",
        "print(\"2 = Lion.\")\n",
        "print(\"3 = Tiger.\")\n",
        "print(\"4 = Chetaah.\")\n",
        "print(\"5 = Frog.\")\n",
        "print(\"6 = Anteater\")\n",
        "answer=input(\"\")\n",
        "\n",
        "if(answer==\"1\"):\n",
        "    print(\"Fishes live in the water.\")\n",
        "\n",
        "if(answer==\"2\"):\n",
        "    print(\"Lions lives on the land.\")\n",
        "\n",
        "if(answer==\"3\"):\n",
        "    print(\"Tigers lives on the land.\")\n",
        "\n",
        "if(answer==\"4\"):\n",
        "    print(\"Cheetahs lives on the land.\")\n",
        "\n",
        "if(answer==\"5\"):\n",
        "    print(\"Frogs lives on the land and in the water.\")\n",
        "\n",
        "if(answer==\"6\"):\n",
        "    print(\"Anteaters live on the land.\")\n"
      ]
    }
  ]
}
