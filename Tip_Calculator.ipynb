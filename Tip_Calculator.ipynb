{
  "nbformat": 4,
  "nbformat_minor": 0,
  "metadata": {
    "colab": {
      "provenance": [],
      "authorship_tag": "ABX9TyNUi7gCXULvwQ6/xjMaNpeB",
      "include_colab_link": true
    },
    "kernelspec": {
      "name": "python3",
      "display_name": "Python 3"
    },
    "language_info": {
      "name": "python"
    }
  },
  "cells": [
    {
      "cell_type": "markdown",
      "metadata": {
        "id": "view-in-github",
        "colab_type": "text"
      },
      "source": [
        "<a href=\"https://colab.research.google.com/github/knikhil25/pythoncodes/blob/main/Tip_Calculator.ipynb\" target=\"_parent\"><img src=\"https://colab.research.google.com/assets/colab-badge.svg\" alt=\"Open In Colab\"/></a>"
      ]
    },
    {
      "cell_type": "code",
      "execution_count": 26,
      "metadata": {
        "colab": {
          "base_uri": "https://localhost:8080/"
        },
        "id": "JUjPw1BZ04xu",
        "outputId": "07698c7b-9676-400b-86d2-6f89f09a0375"
      },
      "outputs": [
        {
          "output_type": "stream",
          "name": "stdout",
          "text": [
            "What was the total bill? $80\n",
            "How mauch tip do you want to give? 3\n",
            "82.4\n"
          ]
        }
      ],
      "source": [
        "bill=input(\"What was the total bill? $\")\n",
        "total_bill = int(bill)\n",
        "\n",
        "tip=input(\"How mauch tip do you want to give? \")\n",
        "total_tip = int(tip)\n",
        "\n",
        "tip_value = total_bill*total_tip/100\n",
        "\n",
        "final_bill= total_bill + tip_value\n",
        "\n",
        "print(final_bill)"
      ]
    }
  ]
}