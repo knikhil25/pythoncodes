{
  "nbformat": 4,
  "nbformat_minor": 0,
  "metadata": {
    "colab": {
      "provenance": [],
      "authorship_tag": "ABX9TyMKWlOr1ZWR546KB4CVAA1o",
      "include_colab_link": true
    },
    "kernelspec": {
      "name": "python3",
      "display_name": "Python 3"
    },
    "language_info": {
      "name": "python"
    }
  },
  "cells": [
    {
      "cell_type": "markdown",
      "metadata": {
        "id": "view-in-github",
        "colab_type": "text"
      },
      "source": [
        "<a href=\"https://colab.research.google.com/github/knikhil25/pythoncodes/blob/main/fruitandveggiebasket.ipynb\" target=\"_parent\"><img src=\"https://colab.research.google.com/assets/colab-badge.svg\" alt=\"Open In Colab\"/></a>"
      ]
    },
    {
      "cell_type": "code",
      "execution_count": null,
      "metadata": {
        "id": "rYtpUeY9qhrv"
      },
      "outputs": [],
      "source": [
        "vegefru = input(\"put any fruit or veggie (The first letter has to be capital): \")\n",
        "\n",
        "\n",
        "if vegefru==\"Apple\":\n",
        "  print(\"An Apple a day keeps the doctor away!\")\n",
        "elif vegefru==\"Banana\":\n",
        "  print(\"After eating Banana you become Nana!\")\n",
        "elif vegefru==\"Strawberry\":\n",
        "  print(\"Make Strawberry juice and drink with a Starwberry flavored straw!\")\n",
        "elif vegefru==\"Blueberry\":\n",
        "  print (\"After eating Blueberry don't feel blue!\")\n",
        "elif vegefru==\"Grape\":\n",
        "  print(\"After eating Grape you drape!\")\n",
        "elif vegefru==\"Radish\":\n",
        "  print(\"Don't eat Radish if you feel badish!\")\n",
        "else:\n",
        "  print(\"Thank you for teaching me that name of a fruit or vegtable!\")"
      ]
    }
  ]
}