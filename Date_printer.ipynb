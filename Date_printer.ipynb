{
  "nbformat": 4,
  "nbformat_minor": 0,
  "metadata": {
    "colab": {
      "name": "Date printer.ipynb",
      "provenance": [],
      "authorship_tag": "ABX9TyPSJbiQALOTwsiT6aPXPYrh",
      "include_colab_link": true
    },
    "kernelspec": {
      "name": "python3",
      "display_name": "Python 3"
    },
    "language_info": {
      "name": "python"
    }
  },
  "cells": [
    {
      "cell_type": "markdown",
      "metadata": {
        "id": "view-in-github",
        "colab_type": "text"
      },
      "source": [
        "<a href=\"https://colab.research.google.com/github/knikhil25/pythoncodes/blob/main/Date_printer.ipynb\" target=\"_parent\"><img src=\"https://colab.research.google.com/assets/colab-badge.svg\" alt=\"Open In Colab\"/></a>"
      ]
    },
    {
      "cell_type": "code",
      "execution_count": null,
      "metadata": {
        "colab": {
          "base_uri": "https://localhost:8080/"
        },
        "id": "pwOC0fQIUkHO",
        "outputId": "189c9c71-ecb1-444c-c537-17f3ca3c9360"
      },
      "outputs": [
        {
          "output_type": "stream",
          "name": "stdout",
          "text": [
            "Todays date is:  2022-03-02\n"
          ]
        }
      ],
      "source": [
        "# Python program to get current date\n",
        "# Import date class from datetime module\n",
        "from datetime import date\n",
        "# Returns the current local date\n",
        "today = date.today()\n",
        "print(\"Todays date is: \", today)"
      ]
    }
  ]
}