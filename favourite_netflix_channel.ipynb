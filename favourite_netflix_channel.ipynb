{
  "nbformat": 4,
  "nbformat_minor": 0,
  "metadata": {
    "colab": {
      "provenance": [],
      "authorship_tag": "ABX9TyOxtImS5XPrYWt/NShDYJ+d",
      "include_colab_link": true
    },
    "kernelspec": {
      "name": "python3",
      "display_name": "Python 3"
    },
    "language_info": {
      "name": "python"
    }
  },
  "cells": [
    {
      "cell_type": "markdown",
      "metadata": {
        "id": "view-in-github",
        "colab_type": "text"
      },
      "source": [
        "<a href=\"https://colab.research.google.com/github/knikhil25/pythoncodes/blob/main/favourite_netflix_channel.ipynb\" target=\"_parent\"><img src=\"https://colab.research.google.com/assets/colab-badge.svg\" alt=\"Open In Colab\"/></a>"
      ]
    },
    {
      "cell_type": "code",
      "execution_count": 13,
      "metadata": {
        "colab": {
          "base_uri": "https://localhost:8080/"
        },
        "id": "QTFVGaG8Grcf",
        "outputId": "6299ebb8-bdea-4cef-c232-cb44de9357b8"
      },
      "outputs": [
        {
          "output_type": "stream",
          "name": "stdout",
          "text": [
            "Whatis your favourite movie? magic school bus\n",
            "Me too!\n"
          ]
        }
      ],
      "source": [
        "movie=input(\"Whatis your favourite movie? \")\n",
        "\n",
        "if (movie==\"octonauts\"):\n",
        "  print(\"Me too!\")\n",
        "elif (movie==\"magic school bus\"):\n",
        "  print(\"Me too!\")\n",
        "else:\n",
        "  print(\"Okay!\")"
      ]
    }
  ]
}